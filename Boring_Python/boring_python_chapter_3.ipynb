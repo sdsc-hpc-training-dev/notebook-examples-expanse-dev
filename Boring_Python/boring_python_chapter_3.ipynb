{
 "cells": [
  {
   "cell_type": "markdown",
   "metadata": {},
   "source": [
    "<a id='Intro'></a>\n",
    "# Automate the Boring Stuff: Chapter 3\n",
    "# Functions"
   ]
  },
  {
   "cell_type": "markdown",
   "metadata": {},
   "source": [
    "Python has many functions, mini sets of code that do something to help you, that can be used to make your programming life easier. They include print(), input(), and len(), to name a few. However, you can also write your own functions, like this one below that prints out \"Hello World\".\n",
    "\n",
    "def hello():\n",
    "\n",
    "    print('Hello World!')\n",
    "    \n",
    "    \n",
    "hello()"
   ]
  },
  {
   "cell_type": "code",
   "execution_count": 1,
   "metadata": {},
   "outputs": [],
   "source": [
    "#Type code here"
   ]
  },
  {
   "cell_type": "markdown",
   "metadata": {},
   "source": [
    "Let's look at what makes up this program. The first line is a def statement, making hello() into a function. The next line of code is the body of the function. In this example, it is only one line, but it can be as many lines as necessary. The code in the body is run when the function is called (the last line of the code), not when the function is defined.\n",
    "\n",
    "When you call hello() at the end of the code, it is called a function call. The function call will usually have a set of parenthesis, and will sometimes have arguments inside them, maybe passing in a number or a string. When a function is called, the code runs through all the lines in the function, then returns to where it was before to continue running.\n",
    "\n",
    "This code only calls the hello function one time, but if you add hello() more times at the bottom, it will run more.\n",
    "\n",
    "The main idea of functions is to group commands that would normally be run multiple times. Say you wanted to output \"Hello World\" 9 times. You could either write print('Hello World') 9 times, or you could write a function that prints \"Hello World\" 3 times, and call it 3 times. This helps you reduce the amount of times you duplicate code, which is never good to do. It might be tempting at first because of the simplicity, but if you end up having to change something later down the line, it will be nice to only change one place, rather than scrolling through thousands of lines of code."
   ]
  },
  {
   "cell_type": "markdown",
   "metadata": {},
   "source": [
    "<a id='1'></a>\n",
    "## Functions with Parameters\n",
    "\n",
    "When you use the function print(), you usually pass in a value, called an argument, between the parenthesis. You can also include parameters in your functions.\n",
    "\n",
    "def hello(name):\n",
    "    \n",
    "    print('Hello ' + name)\n",
    "    \n",
    "hello('Alice')\n",
    "\n",
    "hello('Bob')"
   ]
  },
  {
   "cell_type": "code",
   "execution_count": 17,
   "metadata": {},
   "outputs": [],
   "source": [
    "#Type code here"
   ]
  },
  {
   "cell_type": "markdown",
   "metadata": {},
   "source": [
    "The parameter in this example is called \"name\". name is just a variable that holds the string, puts it after hello, and forgets it. The information in the variable name is removed after the function is done running, so it will not be able to be accessed elsewhere in the program."
   ]
  },
  {
   "cell_type": "markdown",
   "metadata": {},
   "source": [
    "<a id='2'></a>\n",
    "## Return Values and Return Statements\n",
    "\n",
    "When you call len(), and pass 'Hello' as the argument, you are returned the integer 5, or the length of the string. The value the function gives back to you is called the return value. In your functions, you can specify what value is to be returned with the return keyword, followed by what is being returned.\n",
    "\n",
    "The following program returns a different statement depending on what number is randomly picked.\n",
    "\n",
    "import random\n",
    "\n",
    "def getAnswer(num):\n",
    "\n",
    "    if num == 1:\n",
    "    \n",
    "        return 'It is certain'\n",
    "        \n",
    "    elif num == 2:\n",
    "    \n",
    "        return 'It is decidedly so'\n",
    "    \n",
    "    elif num == 3:\n",
    "    \n",
    "        return 'Yes'\n",
    "       \n",
    "    elif num == 4:\n",
    "    \n",
    "        return 'Reply hazy try again'\n",
    "    \n",
    "    elif num == 5:\n",
    "    \n",
    "        return 'Ask again later'\n",
    "       \n",
    "    elif num == 6:\n",
    "    \n",
    "        return 'Concentrate and ask again'\n",
    "    \n",
    "    elif num == 7:\n",
    "    \n",
    "        return 'My reply is no'\n",
    "    \n",
    "    elif num == 8:\n",
    "              \n",
    "        return 'Outlook not so good'\n",
    "    \n",
    "    elif num == 9:\n",
    "    \n",
    "        return 'Very doubtful'\n",
    "        \n",
    "r = random.randint(1, 9)\n",
    "\n",
    "answer = getAnswer(r)\n",
    "\n",
    "print(answer)"
   ]
  },
  {
   "cell_type": "code",
   "execution_count": 24,
   "metadata": {},
   "outputs": [],
   "source": [
    "#Type code here"
   ]
  },
  {
   "cell_type": "markdown",
   "metadata": {},
   "source": [
    "The program starts with importing the random module, which is needed for generating random numbers. Next, we define the function getAnswer(), but do not run the code. Then, we assign a random number to r, using the randint method in the random module, passing in 1 and 9 as arguments. After that, we call getAnswer(), and pass the random number as the parameter. The random answer is returned and assigned to the variable answer. Finally, we print the answer.\n",
    "\n",
    "You could have also passed returned values as arguments, condensing the last three lines into one:\n",
    "\n",
    "print(getAnswer(random.randint(1, 9)))"
   ]
  },
  {
   "cell_type": "markdown",
   "metadata": {},
   "source": [
    "<a id='3'></a>\n",
    "## The None Value\n",
    "\n",
    "There is a value called None in python, representing the absence of a value. None is the only value of the NoneType data type. It is the same as null, nil, or undefined in other programming languages. None is also always capitalized.\n",
    "\n",
    "None can be seen in action as the return value of the print() function. print() displays text onto the screen, but doesn't return anything that can be used further in the code, like the previous Magic 8 Ball example. The function has to return something, however, so print() returns None. You can see this happening with the following code:\n",
    "\n",
    "spam = print('Hello')"
   ]
  },
  {
   "cell_type": "code",
   "execution_count": 4,
   "metadata": {},
   "outputs": [],
   "source": [
    "#Type code here"
   ]
  },
  {
   "cell_type": "markdown",
   "metadata": {},
   "source": [
    "None == spam"
   ]
  },
  {
   "cell_type": "code",
   "execution_count": 3,
   "metadata": {},
   "outputs": [],
   "source": [
    "#Type code here"
   ]
  },
  {
   "cell_type": "markdown",
   "metadata": {},
   "source": [
    "You will see that the second cell returns True, meaning that print() does not return anything. Python secretly returns None in any function that does not have a return statement. You can also use a return statement without a velue in a function to stop it from completing."
   ]
  },
  {
   "cell_type": "markdown",
   "metadata": {},
   "source": [
    "<a id='4'></a>\n",
    "## Keyword Arguments and Print()\n",
    "\n",
    "Most arguments can be identified based on their position in the function call. For example, random.randint(1, 10) is different from random.randint(10, 1). In this example, the first value represents the low end of the random number and the second number represents the high end. When you switch the numbers, you get an error message. Test it out below:\n",
    "\n",
    "random.randint(1, 10)"
   ]
  },
  {
   "cell_type": "code",
   "execution_count": 29,
   "metadata": {},
   "outputs": [],
   "source": [
    "#Type code here"
   ]
  },
  {
   "cell_type": "markdown",
   "metadata": {},
   "source": [
    "random.randint(10, 1)"
   ]
  },
  {
   "cell_type": "code",
   "execution_count": 30,
   "metadata": {},
   "outputs": [],
   "source": [
    "#Type code here"
   ]
  },
  {
   "cell_type": "markdown",
   "metadata": {},
   "source": [
    "Keyword arguments are identified based on the keyword before them when calling a function. They are usually used when you have optional prarmeters. For Example, print() has the optional parameters end and sep which can specify what is printed at the end of the argument or between the arguments.\n",
    "\n",
    "If you run the following code:\n",
    "\n",
    "print('Hello')\n",
    "\n",
    "print('World')"
   ]
  },
  {
   "cell_type": "code",
   "execution_count": 1,
   "metadata": {},
   "outputs": [],
   "source": [
    "#Type code here"
   ]
  },
  {
   "cell_type": "markdown",
   "metadata": {},
   "source": [
    "You will get the output:\n",
    "\n",
    "Hello\n",
    "\n",
    "World\n",
    "\n",
    "The pirnt() function automatically adds a newline character to the end of the string. But, there is a way to change that with the following code:\n",
    "\n",
    "print('Hello', end='')\n",
    "\n",
    "print('World')"
   ]
  },
  {
   "cell_type": "code",
   "execution_count": 3,
   "metadata": {},
   "outputs": [],
   "source": [
    "#Type code here"
   ]
  },
  {
   "cell_type": "markdown",
   "metadata": {},
   "source": [
    "The output should be HelloWorld. The output is on one line bacause there is a new character that must be at the end of the first string. This can be helpful if you need to disable the newline after every print() call.\n",
    "\n",
    "In a similar way, you can pass multiple strings into print(). They will automatically be seperated with one space.\n",
    "\n",
    "print('cats', 'dogs', 'mice')"
   ]
  },
  {
   "cell_type": "code",
   "execution_count": 6,
   "metadata": {},
   "outputs": [],
   "source": [
    "#Type code here"
   ]
  },
  {
   "cell_type": "markdown",
   "metadata": {},
   "source": [
    "You can replace the default space with the sep keyword.\n",
    "\n",
    "print('cats', 'dogs', 'mice', sep=',')"
   ]
  },
  {
   "cell_type": "code",
   "execution_count": 7,
   "metadata": {},
   "outputs": [],
   "source": [
    "#Type code here"
   ]
  },
  {
   "cell_type": "markdown",
   "metadata": {},
   "source": [
    "You will be able to add optional keywords into your own functions, but first we have to learn about list and dictionary data types in the next few chapters."
   ]
  },
  {
   "cell_type": "markdown",
   "metadata": {},
   "source": [
    "<a id='5'></a>\n",
    "## Local and Global Scope\n",
    "\n",
    "Parameters and variables that are assigned in a called function exist in the function's local scope. Variables assigned outside all functions exist in the global scope. A variable in the local scope is a local variable, while a variable in the global scope is a global variable. A variable can only be either global or local, not both.\n",
    "\n",
    "Scope is like a container for the variables. If a scope is destroyed, all the variables in the scope are also destroyed. Only one global scope will exist, and it begins when the program begins. When the program ends, the global scope ends and all the variables are forgotten. If this didn't happen, your numbers would be off the next time you ran your program.\n",
    "\n",
    "Local scope is created when a function is called. Variables assigned in that function exist only in the local scope. When the function returns, the local scope is destroyed. If the function gets called again, it will not remember the variables that it had before.\n",
    "\n",
    "Scope is important for a number of reasons:\n",
    "\n",
    "- Code in the global scope cannot use local variables\n",
    "- Local variables can access global variables\n",
    "- Code in a function's local scope cannot use variables in any other local scope\n",
    "- You can use the same name for different variables if they are in different scopes. For example, there can be a local variable named spam and also a global variable named spam\n",
    "\n",
    "Python has different scopes so that if a variable is modified by a code in a call to a function, the function interacts with the rest of the program through its parameters and return value. This reduces the list code lines that could be causeing a bug. If your program contains only global variables and a bug because of a variable being set to a bad value, it would be hard to figure out where it came from. But, if the bug is because of a local variable with a bad value, the only place that it could be wrong is in the function.\n",
    "\n",
    "It is generally ok to use global variables in small programs, but is overall a bad habit when the programs get larger and larger."
   ]
  },
  {
   "cell_type": "markdown",
   "metadata": {},
   "source": [
    "<a id='6'></a>\n",
    "## Local Variables Cannot be Used in the Global Scope\n",
    "\n",
    "Try the following program that will cause an error when run:\n",
    "\n",
    "def spam():\n",
    "    \n",
    "    eggs = 31337\n",
    "    \n",
    "spam()\n",
    "\n",
    "print(eggs)"
   ]
  },
  {
   "cell_type": "code",
   "execution_count": 10,
   "metadata": {},
   "outputs": [],
   "source": [
    "#Type code here"
   ]
  },
  {
   "cell_type": "markdown",
   "metadata": {},
   "source": [
    "When run, you will get the following error:\n",
    "\n",
    "![alt text](eggserror.PNG \"Eggs Error\")\n",
    "\n",
    "This error happens because the varibale eggs exists only in the local scope created when spam() is called. When the program returns from spam(), the variable has been destroyed, so there is no longer a variable called eggs."
   ]
  },
  {
   "cell_type": "markdown",
   "metadata": {},
   "source": [
    "<a id='7'></a>\n",
    "## Local Scope Cannot Use Variables in Other Local Scopes\n",
    "\n",
    "A new local scope is created whenever a funtion is called, even when a function is called from another function.\n",
    "\n",
    "def spam():\n",
    "    \n",
    "    eggs = 99\n",
    "    \n",
    "    bacon()\n",
    "    \n",
    "    print(eggs)\n",
    "    \n",
    "def bacon():\n",
    "    \n",
    "    ham = 101\n",
    "    \n",
    "    eggs = 0\n",
    "    \n",
    "spam()"
   ]
  },
  {
   "cell_type": "code",
   "execution_count": 12,
   "metadata": {},
   "outputs": [],
   "source": [
    "#Type code here"
   ]
  },
  {
   "cell_type": "markdown",
   "metadata": {},
   "source": [
    "When the program starts, spam() is called and a local scope is created. The local variable eggs is set to 99. Next, bacon() is called and another local scope is created. Multiple local scopes are allowed to exist at the same time. In this local scope, ham is set to 101, and a new local variable eggs is created and set to 0.\n",
    "\n",
    "Then, bacon returns and the scope is destroyed. The program continues executing spam() and prints the value of eggs, which is 99 in the local scope of spam()\n",
    "\n",
    "Local variables in one function are completely seperate from local variables in another."
   ]
  },
  {
   "cell_type": "markdown",
   "metadata": {},
   "source": [
    "<a id='8'></a>\n",
    "## Global Variables Can be Read From a Local Scope\n",
    "\n",
    "Consider this program:\n",
    "\n",
    "def spam():\n",
    "\n",
    "    print(eggs)\n",
    "    \n",
    "eggs = 42\n",
    "\n",
    "spam()\n",
    "\n",
    "print(eggs)"
   ]
  },
  {
   "cell_type": "code",
   "execution_count": 13,
   "metadata": {},
   "outputs": [],
   "source": [
    "#Type code here"
   ]
  },
  {
   "cell_type": "markdown",
   "metadata": {},
   "source": [
    "Because there is not a parameter named eggs or code that changes the eggs value in the spam() function, python considers the reference to eggs as a global reference. 42 will be printed when the code is run."
   ]
  },
  {
   "cell_type": "markdown",
   "metadata": {},
   "source": [
    "<a id='9'></a>\n",
    "## Local and Global Variables with the Same Name\n",
    "\n",
    "Try to avoid using local variables with the same name as a global variable or another local variable. However, it is legal to do so. (It might just get a little confusing).\n",
    "\n",
    "def spam():\n",
    "\n",
    "    eggs = 'spam local'\n",
    "    \n",
    "    print(eggs) # prints 'spam local'\n",
    "    \n",
    "def bacon():\n",
    "\n",
    "    eggs = 'bacon local'\n",
    "    \n",
    "    print(eggs) # prints 'bacon local'\n",
    "    \n",
    "    spam()\n",
    "    \n",
    "    print(eggs) # prints 'bacon local'\n",
    "    \n",
    "eggs = 'global'\n",
    "\n",
    "bacon()\n",
    "\n",
    "print(eggs) # prints 'global'"
   ]
  },
  {
   "cell_type": "code",
   "execution_count": 16,
   "metadata": {},
   "outputs": [],
   "source": [
    "#Type code here"
   ]
  },
  {
   "cell_type": "markdown",
   "metadata": {},
   "source": [
    "When you run this program, you get the output:\n",
    "\n",
    "bacon local\n",
    "\n",
    "spam local\n",
    "\n",
    "bacon local\n",
    "\n",
    "global\n",
    "\n",
    "In this program, there are three different variables, all named eggs\n",
    "\n",
    "- eggs exists in a local scope when spam() is called\n",
    "- eggs exists in a local scope when bacon() is called\n",
    "- eggs exists in the global scope\n",
    "\n",
    "Because all these variables have the same name, it is confusing which one you are using. You should always try to use different variable names to avoid confusion."
   ]
  },
  {
   "cell_type": "markdown",
   "metadata": {},
   "source": [
    "<a id='10'></a>\n",
    "## The Global Statement\n",
    "\n",
    "If you need to modify a global variable from a function, use the global statement. It will be a line that looks like global eggs, and it will tell python that it needs to use the global scope of eggs in the function.\n",
    "\n",
    "def spam():\n",
    "\n",
    "    global eggs\n",
    "    \n",
    "    eggs = 'spam'\n",
    "    \n",
    "eggs = 'global'\n",
    "\n",
    "spam()\n",
    "\n",
    "print(eggs)"
   ]
  },
  {
   "cell_type": "code",
   "execution_count": 18,
   "metadata": {},
   "outputs": [],
   "source": [
    "#Type code here"
   ]
  },
  {
   "cell_type": "markdown",
   "metadata": {},
   "source": [
    "When this program runs, the output will be spam. Eggs is declared global at the top of the spam function, so when eggs is set to spam, it is done so globally. There is not another eggs variable created.\n",
    "\n",
    "There are 4 rules that can tell if a variable is in a local or global scope:\n",
    "\n",
    "- If a variable is being used in a global scope (not in any functions), then it will be global\n",
    "- If there is a global statement for the variable in a function, it is global\n",
    "- Otherwise, if the variable is used in an assignment statement in a function, it is local\n",
    "- If the variable is not used in an assignment statement, it is global\n",
    "\n",
    "Here is an example program that will show off the rules:\n",
    "\n",
    "def spam():\n",
    "\n",
    "    global eggs\n",
    "    \n",
    "    eggs = 'spam' # global\n",
    "    \n",
    "def bacon():\n",
    "\n",
    "    eggs = 'bacon' # local\n",
    "    \n",
    "def ham():\n",
    "\n",
    "    print(eggs) # global\n",
    "    \n",
    "eggs = 42 # global\n",
    "\n",
    "spam()\n",
    "\n",
    "print(eggs)"
   ]
  },
  {
   "cell_type": "code",
   "execution_count": 20,
   "metadata": {},
   "outputs": [],
   "source": [
    "#Type code here"
   ]
  },
  {
   "cell_type": "markdown",
   "metadata": {},
   "source": [
    "In the spam() function, eggs is the global eggs because we use a global statement. In the bacon() function, eggs is local because it is being assigned a new value. In the ham() function, eggs is global because we are not assigning anything to eggs. The output for the program will be spam.\n",
    "\n",
    "In a function, a variable will either be local or global.\n",
    "\n",
    "### Note\n",
    "\n",
    "If you want to modify the value stored in a global variable from a function, you must use a global statement.\n",
    "\n",
    "If you try to use a local variable in a function before assigning a value to it, python will give an error.\n",
    "\n",
    "def spam():\n",
    "\n",
    "    print(eggs) # ERROR\n",
    "    \n",
    "    eggs = 'spam local'\n",
    "    \n",
    "eggs = 'global'\n",
    "\n",
    "spam()"
   ]
  },
  {
   "cell_type": "code",
   "execution_count": 1,
   "metadata": {},
   "outputs": [],
   "source": [
    "#Type code here"
   ]
  },
  {
   "cell_type": "markdown",
   "metadata": {},
   "source": [
    "When you run this program, you will get an error message\n",
    "\n",
    "![alt text](localerror.PNG \"Error Example\")\n",
    "\n",
    "This error occurs because there is an assignment statement for eggs in spam() and considers eggs as local. Because print(eggs) is executed before assigning eggs to anything, the local variable does not exist.\n",
    "\n",
    "These are called \"Black Boxes\"\n",
    "\n",
    "Usually, you only need to know the inputs and output value for a function, you don't need to know how the function actually works. When thinking about functions this way, you can say you're treating the funciton as a \"black box.\"\n",
    "\n",
    "This idea is essential to modern programming. While you can look at the code of a function if you're interested, it is not essential to know how to use the function. Also, it is discouraged to write functions with global variables, so you don't normally have to worry about the function interacting with the rest of the program."
   ]
  },
  {
   "cell_type": "markdown",
   "metadata": {},
   "source": [
    "<a id='11'></a>\n",
    "## Handling Exceptions\n",
    "\n",
    "Right now, getting an error in your program causes the entire program to crash. If this is a real-world program, you want to avoid this from happening. You want to make the program detect errors, handle them, and continue running.\n",
    "\n",
    "This program has a divide by zero error.\n",
    "\n",
    "def spam(divide):\n",
    "    \n",
    "    return 42 / divide\n",
    "    \n",
    "print(spam(2))\n",
    "\n",
    "print(spam(12))\n",
    "\n",
    "print(spam(0))\n",
    "\n",
    "print(spam(1))"
   ]
  },
  {
   "cell_type": "code",
   "execution_count": 5,
   "metadata": {},
   "outputs": [],
   "source": [
    "#Type code here"
   ]
  },
  {
   "cell_type": "markdown",
   "metadata": {},
   "source": [
    "We made the function spam, gave it a parameter, and printed the value of that function with various parameters to see what would happen. But you will get this output.\n",
    "\n",
    "![alt text](divide0error.PNG \"Divide by 0 error\")\n",
    "\n",
    "A ZeroDivisionError happens when you divide a number by 0. Because of the line number given with the error, you know that the return statement in spam is giving the error.\n",
    "\n",
    "You can deal with errors using try and except statements. The code that could potentially have a problem is in the try clause, and the code that is run if there is an error is in the except clause.\n",
    "\n",
    "You can use this idea with a few modifications to the previous code segment.\n",
    "\n",
    "def spam(divide):\n",
    "\n",
    "    try:\n",
    "    \n",
    "        return 42 / divide\n",
    "        \n",
    "    except ZeroDivisionError:\n",
    "    \n",
    "        print('Error: Invalid argument.')\n",
    "    \n",
    "print(spam(2))\n",
    "\n",
    "print(spam(12))\n",
    "\n",
    "print(spam(0))\n",
    "\n",
    "print(spam(1))"
   ]
  },
  {
   "cell_type": "code",
   "execution_count": 4,
   "metadata": {},
   "outputs": [],
   "source": [
    "#Type code here"
   ]
  },
  {
   "cell_type": "markdown",
   "metadata": {},
   "source": [
    "When this code is run, there is no problems because of the try and except statements. The output should look like this.\n",
    "\n",
    "![alt text](divide0success.PNG \"Divide by 0 success\")\n",
    "\n",
    "Any errors that occur in a try block will be caught. This is showed in the next example.\n",
    "\n",
    "def spam(divide):\n",
    "    \n",
    "    return 42 / divide\n",
    "    \n",
    "try:\n",
    "    \n",
    "    print(spam(2))\n",
    "\n",
    "    print(spam(12))\n",
    "\n",
    "    print(spam(0))\n",
    "\n",
    "    print(spam(1))\n",
    "    \n",
    "except ZeroDivisionError:\n",
    "\n",
    "    print('Error: Invalid argument.')"
   ]
  },
  {
   "cell_type": "code",
   "execution_count": 6,
   "metadata": {},
   "outputs": [
    {
     "name": "stdout",
     "output_type": "stream",
     "text": [
      "21.0\n",
      "3.5\n",
      "Error: Invalid argument.\n"
     ]
    }
   ],
   "source": [
    "def spam(divide):\n",
    "    \n",
    "    return 42 / divide\n",
    "    \n",
    "try:\n",
    "    \n",
    "    print(spam(2))\n",
    "\n",
    "    print(spam(12))\n",
    "\n",
    "    print(spam(0))\n",
    "\n",
    "    print(spam(1))\n",
    "    \n",
    "except ZeroDivisionError:\n",
    "\n",
    "    print('Error: Invalid argument.')"
   ]
  },
  {
   "cell_type": "markdown",
   "metadata": {},
   "source": [
    "Now when you run the program, you get this output.\n",
    "\n",
    "![alt text](divide0success2.PNG \"Divide by 0 success 2\")\n",
    "\n",
    "You might notice that print(spam(1)) is not executed. This is because the code jumps to the except statement after print(spam(0)) is run, but never returns to run print(spam(1))."
   ]
  },
  {
   "cell_type": "markdown",
   "metadata": {},
   "source": [
    "<a id='12'></a>\n",
    "## Guess the Number\n",
    "\n",
    "The examples shown so far are basic examples to introduce the concepts. Now, we will see everything come together into one program. This program is going to be a guess the number game. The output will look something like this.\n",
    "\n",
    "![alt text](guessing.PNG \"Guessing Example\")\n",
    "\n",
    "The code will look like this:\n",
    "\n",
    "import random\n",
    "\n",
    "num = random.randint(1, 20)\n",
    "\n",
    "print('I am thinking of a number between 1 and 20')\n",
    "\n",
    "print('Guess a number')\n",
    "\n",
    "\n",
    "for guessesTaken in range(1, 7):\n",
    "    \n",
    "    guess = int(input())\n",
    "    \n",
    "    if guess < num:\n",
    "        \n",
    "        print('Guess higher')\n",
    "        \n",
    "    elif guess > num:\n",
    "    \n",
    "        print('Guess lower')\n",
    "        \n",
    "    else:\n",
    "    \n",
    "        break\n",
    "        \n",
    "if guess == num:\n",
    "\n",
    "    print('You guessed it in ' + str(guessesTaken) + ' guesses!')\n",
    "    \n",
    "else:\n",
    "\n",
    "    print('Nope. The number was ' + str(num))"
   ]
  },
  {
   "cell_type": "code",
   "execution_count": 4,
   "metadata": {},
   "outputs": [],
   "source": [
    "#Type code here"
   ]
  },
  {
   "cell_type": "markdown",
   "metadata": {},
   "source": [
    "Let's look at the code and what it does. The first lines import the random module so you are able to get a random number. Then, we use the random.randint() function to get a number between 1 and 20. The number is stored in the variable num. Then we print the user interface so the user knows what they need to do.\n",
    "\n",
    "Next we have our for loop. This will loop through 6 times, and after every guess, there is an output telling the user to guess either lower or higher than the previous guess. Additionally, there is the input from the user that is converted from a string into an int, because there should only be numbers being entered into the program. The only other way to get out of the program is to guess the right number, triggering the else and breaking out of the loop.\n",
    "\n",
    "Finally, we check to see why the loop stopped, so if the number was guessed, we congradulate the user, but if it wasn't, we tell them what the right number was."
   ]
  },
  {
   "cell_type": "markdown",
   "metadata": {},
   "source": [
    "<a id='13'></a>\n",
    "## Summary\n",
    "\n",
    "Functions are the primary way to compartmentalize the code into smaller, logical groups. Because the variables in functions exist in their own scope, the code in one function will not directly impact the code in another. This might end up helping you in the debug process.\n",
    "\n",
    "Functions are also a good way to organize your code. They are like black boxes, taking in an input and returning something else.\n",
    "\n",
    "In previous chapters, an error causes programs to crash, but now with try and except statements, you can predict errors and stop them from ending your program."
   ]
  },
  {
   "cell_type": "markdown",
   "metadata": {},
   "source": [
    "<a id='14'></a>\n",
    "## Practice Questions\n",
    "\n",
    "Q: 1. Why are functions advantageous to have in your programs?\n",
    "\n",
    "Q: 2. When does the code in a function execute: when the function is defined or when the function is called?\n",
    "\n",
    "Q: 3. What statement creates a function?\n",
    "\n",
    "Q: 4. What is the difference between a function and a function call?\n",
    "\n",
    "Q: 5. How many global scopes are there in a Python program? How many local scopes?\n",
    "\n",
    "Q: 6. What happens to variables in a local scope when the function call returns?\n",
    "\n",
    "Q: 7. What is a return value? Can a return value be part of an expression?\n",
    "\n",
    "Q: 8. If a function does not have a return statement, what is the return value of a call to that function?\n",
    "\n",
    "Q: 9. How can you force a variable in a function to refer to the global variable?\n",
    "\n",
    "Q: 10. What is the data type of None?\n",
    "\n",
    "Q: 11. What does the import areallyourpetsnamederic statement do?\n",
    "\n",
    "Q: 12. If you had a function named bacon() in a module named spam, how would you call it after importing spam?\n",
    "\n",
    "Q: 13. How can you prevent a program from crashing when it gets an error?\n",
    "\n",
    "Q: 14. What goes in the try clause? What goes in the except clause?"
   ]
  },
  {
   "cell_type": "code",
   "execution_count": null,
   "metadata": {},
   "outputs": [],
   "source": []
  }
 ],
 "metadata": {
  "kernelspec": {
   "display_name": "Python 3",
   "language": "python",
   "name": "python3"
  },
  "language_info": {
   "codemirror_mode": {
    "name": "ipython",
    "version": 3
   },
   "file_extension": ".py",
   "mimetype": "text/x-python",
   "name": "python",
   "nbconvert_exporter": "python",
   "pygments_lexer": "ipython3",
   "version": "3.7.3"
  }
 },
 "nbformat": 4,
 "nbformat_minor": 2
}
