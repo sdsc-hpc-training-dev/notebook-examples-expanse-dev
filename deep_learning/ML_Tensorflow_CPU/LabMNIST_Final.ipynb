{
 "cells": [
  {
   "cell_type": "markdown",
   "metadata": {},
   "source": [
    "### Package Dependecies\n",
    "\n",
    "Make a new environment in conda  with python 3.6 ```conda create --name myenv python=3.6``` \n",
    "\n",
    "Check to see that the correct version of python is installed by using this command ```python --version```\n",
    "\n",
    "Install jupyter ```conda install jupyter```\n",
    "\n",
    "Install keras ```conda install keras```\n",
    "\n",
    "Install tensorflow 1.14 ```conda install tensorflow=1.14```\n",
    "\n",
    "Install Pillow 6.1 ```conda install pillow=6.1```\n",
    "\n",
    "Install Matplotlib 3.1 ```conda install matplotlib=3.1```"
   ]
  },
  {
   "cell_type": "code",
   "execution_count": 1,
   "metadata": {},
   "outputs": [
    {
     "ename": "ValueError",
     "evalue": "The python kernel does not appear to be a conda environment.  Please use ``%pip install`` instead.",
     "output_type": "error",
     "traceback": [
      "\u001b[0;31m---------------------------------------------------------------------------\u001b[0m",
      "\u001b[0;31mValueError\u001b[0m                                Traceback (most recent call last)",
      "Cell \u001b[0;32mIn [1], line 1\u001b[0m\n\u001b[0;32m----> 1\u001b[0m get_ipython()\u001b[38;5;241m.\u001b[39mrun_line_magic(\u001b[38;5;124m'\u001b[39m\u001b[38;5;124mconda\u001b[39m\u001b[38;5;124m'\u001b[39m, \u001b[38;5;124m'\u001b[39m\u001b[38;5;124minstall keras\u001b[39m\u001b[38;5;124m'\u001b[39m)\n",
      "File \u001b[0;32m/usr/local/lib/python3.8/dist-packages/IPython/core/interactiveshell.py:2309\u001b[0m, in \u001b[0;36mInteractiveShell.run_line_magic\u001b[0;34m(self, magic_name, line, _stack_depth)\u001b[0m\n\u001b[1;32m   2307\u001b[0m     kwargs[\u001b[38;5;124m'\u001b[39m\u001b[38;5;124mlocal_ns\u001b[39m\u001b[38;5;124m'\u001b[39m] \u001b[38;5;241m=\u001b[39m \u001b[38;5;28mself\u001b[39m\u001b[38;5;241m.\u001b[39mget_local_scope(stack_depth)\n\u001b[1;32m   2308\u001b[0m \u001b[38;5;28;01mwith\u001b[39;00m \u001b[38;5;28mself\u001b[39m\u001b[38;5;241m.\u001b[39mbuiltin_trap:\n\u001b[0;32m-> 2309\u001b[0m     result \u001b[38;5;241m=\u001b[39m \u001b[43mfn\u001b[49m\u001b[43m(\u001b[49m\u001b[38;5;241;43m*\u001b[39;49m\u001b[43margs\u001b[49m\u001b[43m,\u001b[49m\u001b[43m \u001b[49m\u001b[38;5;241;43m*\u001b[39;49m\u001b[38;5;241;43m*\u001b[39;49m\u001b[43mkwargs\u001b[49m\u001b[43m)\u001b[49m\n\u001b[1;32m   2310\u001b[0m \u001b[38;5;28;01mreturn\u001b[39;00m result\n",
      "File \u001b[0;32m/usr/local/lib/python3.8/dist-packages/IPython/core/magics/packaging.py:87\u001b[0m, in \u001b[0;36mPackagingMagics.conda\u001b[0;34m(self, line)\u001b[0m\n\u001b[1;32m     81\u001b[0m \u001b[38;5;124;03m\"\"\"Run the conda package manager within the current kernel.\u001b[39;00m\n\u001b[1;32m     82\u001b[0m \n\u001b[1;32m     83\u001b[0m \u001b[38;5;124;03mUsage:\u001b[39;00m\n\u001b[1;32m     84\u001b[0m \u001b[38;5;124;03m  %conda install [pkgs]\u001b[39;00m\n\u001b[1;32m     85\u001b[0m \u001b[38;5;124;03m\"\"\"\u001b[39;00m\n\u001b[1;32m     86\u001b[0m \u001b[38;5;28;01mif\u001b[39;00m \u001b[38;5;129;01mnot\u001b[39;00m _is_conda_environment():\n\u001b[0;32m---> 87\u001b[0m     \u001b[38;5;28;01mraise\u001b[39;00m \u001b[38;5;167;01mValueError\u001b[39;00m(\u001b[38;5;124m\"\u001b[39m\u001b[38;5;124mThe python kernel does not appear to be a conda environment.  \u001b[39m\u001b[38;5;124m\"\u001b[39m\n\u001b[1;32m     88\u001b[0m                      \u001b[38;5;124m\"\u001b[39m\u001b[38;5;124mPlease use ``\u001b[39m\u001b[38;5;124m%\u001b[39m\u001b[38;5;124mpip install`` instead.\u001b[39m\u001b[38;5;124m\"\u001b[39m)\n\u001b[1;32m     90\u001b[0m conda \u001b[38;5;241m=\u001b[39m _get_conda_executable()\n\u001b[1;32m     91\u001b[0m args \u001b[38;5;241m=\u001b[39m shlex\u001b[38;5;241m.\u001b[39msplit(line)\n",
      "\u001b[0;31mValueError\u001b[0m: The python kernel does not appear to be a conda environment.  Please use ``%pip install`` instead."
     ]
    }
   ],
   "source": [
    "conda install keras"
   ]
  },
  {
   "cell_type": "code",
   "execution_count": null,
   "metadata": {},
   "outputs": [],
   "source": []
  },
  {
   "cell_type": "code",
   "execution_count": 2,
   "metadata": {},
   "outputs": [
    {
     "ename": "SyntaxError",
     "evalue": "invalid syntax (2656444116.py, line 1)",
     "output_type": "error",
     "traceback": [
      "\u001b[0;36m  Cell \u001b[0;32mIn [2], line 1\u001b[0;36m\u001b[0m\n\u001b[0;31m    conda install tensorflow=1.14\u001b[0m\n\u001b[0m          ^\u001b[0m\n\u001b[0;31mSyntaxError\u001b[0m\u001b[0;31m:\u001b[0m invalid syntax\n"
     ]
    }
   ],
   "source": [
    "conda install tensorflow=1.14\n",
    "#from keras.utils import np_utils"
   ]
  },
  {
   "cell_type": "code",
   "execution_count": null,
   "metadata": {},
   "outputs": [],
   "source": [
    "# ----------- IMPORT STATEMENTS ---------------\n",
    "import numpy as np\n",
    "np.random.seed(1)  # for reproducibility\n",
    "\n",
    "from keras.models import Sequential               #Sequential models are the standard stack of layers models\n",
    "from keras.layers import Dense, Dropout, Activation, Flatten   #These are core layer specification functions\n",
    "from keras.layers import Convolution2D, MaxPooling2D           #These are convolution layer functions\n",
    "#from keras.utils import np_utils  \n",
    "from keras.utils import to_categorical\n",
    "#Some utilities\n",
    "from keras import optimizers                             #For training algorithm\n",
    "#---------------------------------------------\n",
    "print('import done')"
   ]
  },
  {
   "cell_type": "code",
   "execution_count": null,
   "metadata": {},
   "outputs": [],
   "source": [
    "#--------------- LOAD and PREPARE DATA STATEMENTS ----------------\n",
    "# Load some numpy arrays that have the MNIST data\n",
    "#  (these are subsets extracted from the MNIST data set in Keras)\n",
    "X_train=np.load('X_train5k.npy')\n",
    "Y_train=np.load('Y_train5k.npy')\n",
    "X_test =np.load('X_test.npy')\n",
    "Y_test =np.load('Y_test.npy')\n",
    "\n",
    "print(X_train.shape)     #review the dimensions Note python3 uses print(X..) python 2 uses print X...\n",
    "\n",
    "#save a few training images with the label in the file name \n",
    "from PIL import Image\n",
    "for i in range(0,3):\n",
    "   im = Image.fromarray(X_train[i,:,:])\n",
    "   im.save(\"Xtrain_num\"+str(i)+\"_cat_\"+str(Y_train[i])+\".jpeg\")\n",
    "print('img load done')"
   ]
  },
  {
   "cell_type": "code",
   "execution_count": null,
   "metadata": {},
   "outputs": [],
   "source": []
  },
  {
   "cell_type": "code",
   "execution_count": null,
   "metadata": {},
   "outputs": [],
   "source": [
    "from keras.utils import to_categorical\n",
    "\n",
    "# Reshape input data\n",
    "X_train = X_train.reshape(X_train.shape[0], 1, 28, 28)\n",
    "X_test = X_test.reshape(X_test.shape[0], 1, 28, 28)\n",
    "\n",
    "# Convert input data to float32 and put into 0-1 range\n",
    "X_train = X_train.astype('float32') / 255\n",
    "X_test = X_test.astype('float32') / 255\n",
    "\n",
    "# One-hot encode labels\n",
    "Y_train = to_categorical(Y_train, 10)\n",
    "Y_test = to_categorical(Y_test, 10)\n",
    "\n",
    "# Print maximum value of X_train\n",
    "print(np.amax(X_train))  # This gets the max value over a flattened numpy array\n",
    "print('prep done')\n"
   ]
  },
  {
   "cell_type": "code",
   "execution_count": null,
   "metadata": {},
   "outputs": [],
   "source": [
    "# --------------Set up Model ---------------------\n",
    "mymodel = Sequential()\n",
    "\n",
    "numfilters = 16\n",
    "#add convolution layer of 32 or 16 or __ filters, 3x3 each, \n",
    "#     input shape for 1 image, channels refers to color dimension of input image\n",
    "mymodel.add(Convolution2D(numfilters, (3, 3),strides=1,  data_format=\"channels_first\",activation='relu', input_shape=(1,28,28))) \n",
    " \n",
    "print('modeldef and first conv layer done')\n"
   ]
  },
  {
   "cell_type": "code",
   "execution_count": null,
   "metadata": {},
   "outputs": [],
   "source": [
    "mymodel.layers[0].output # use this to check sizes of output  "
   ]
  },
  {
   "cell_type": "code",
   "execution_count": null,
   "metadata": {},
   "outputs": [],
   "source": [
    "#-----------------Now add more Convolution layers\n",
    "mymodel.add(Convolution2D(numfilters, (3, 3), activation='relu'))\n",
    "mymodel.add(MaxPooling2D(pool_size=(2,2))) #get Max over 2D region,and slide\n",
    "\n",
    "#optional?\n",
    "mymodel.add(Dropout(0.25))\n",
    " \n",
    "mymodel.add(Flatten())            #reorganize 2DxFilters output into 1D"
   ]
  },
  {
   "cell_type": "code",
   "execution_count": null,
   "metadata": {},
   "outputs": [],
   "source": [
    "mymodel.layers[2].output   #size of output layer for max pooling"
   ]
  },
  {
   "cell_type": "code",
   "execution_count": null,
   "metadata": {},
   "outputs": [],
   "source": [
    "#----------------Now add final classification layers\n",
    "mymodel.add(Dense(128, activation='relu'))  #enter number of hidden units (no good rule, but start with ~ num of previous output) \n",
    "mymodel.add(Dropout(0.5))\n",
    "mymodel.add(Dense(10, activation='softmax'))\n",
    "print('assemble model done')"
   ]
  },
  {
   "cell_type": "code",
   "execution_count": null,
   "metadata": {},
   "outputs": [],
   "source": [
    "# --------- Now assemble (ie compile TensorFlow commands) and run -----\n",
    "mymodel.compile(loss='categorical_crossentropy',\n",
    "               optimizer='sgd',\n",
    "               metrics=['accuracy'])"
   ]
  },
  {
   "cell_type": "code",
   "execution_count": null,
   "metadata": {},
   "outputs": [],
   "source": [
    "#------------ Now Run Training\n",
    "mymodel.fit(X_train, Y_train, \n",
    "          batch_size=32, epochs=15, verbose=1)  #batch up 32 examples before adjusting weights,\n",
    "                                                #sweep through training data 'epochs' times\n"
   ]
  },
  {
   "cell_type": "code",
   "execution_count": null,
   "metadata": {},
   "outputs": [],
   "source": [
    "#--------- Get overall prediction score\n",
    "trainscore = mymodel.evaluate(X_train, Y_train, verbose=1) # get overal score\n",
    "testscore  = mymodel.evaluate(X_test, Y_test, verbose=1) # get overal score\n",
    "#somepred  = mymodel.predict(X_test,verbose=0)           # get predicted labels\n",
    "print(trainscore)\n",
    "print(testscore)"
   ]
  },
  {
   "cell_type": "code",
   "execution_count": null,
   "metadata": {},
   "outputs": [],
   "source": [
    "#-----------Optional: View some of the output\n",
    "#print(somepred[1:3])\n",
    "#Notice each row is 10 elements, each element is a prediction of the number labels \n",
    "print(Y_test[1:3])"
   ]
  },
  {
   "cell_type": "code",
   "execution_count": null,
   "metadata": {},
   "outputs": [],
   "source": [
    "#To view a sample image\n",
    "import matplotlib.pyplot as plt      #These provide matlab type of plotting functions\n",
    "import matplotlib.image as mpimg\n",
    "\n",
    "img_filename = \"Xtrain_num0_cat_5.jpeg\" #% scriptDir \n",
    "im = mpimg.imread(img_filename)\n",
    "plt.figure()\n",
    "plt.imshow(im,'gray')\n",
    "plt.show()\n",
    "print('im loaded')"
   ]
  },
  {
   "cell_type": "code",
   "execution_count": null,
   "metadata": {},
   "outputs": [],
   "source": [
    "# ------------ GET WEIGHTS From Convolution Layer and make mosaic image \n",
    "Wlist   =mymodel.layers[0].get_weights()\n",
    "W3D     =np.squeeze(Wlist[0])\n",
    "W3D.shape\n",
    "W3Dchan =W3D.swapaxes(1,2).swapaxes(0,1)  #get 32 as 1st dimension\n",
    "\n",
    "Wmin       =np.amin(W3Dchan)\n",
    "Wmax       =np.amax(W3Dchan-Wmin)\n",
    "Wsc        =np.int_(255*(W3Dchan-Wmin)/Wmax)\n",
    "ncol =4\n",
    "nrow =np.ceil(numfilters/ncol)\n",
    "print(nrow)\n",
    "plt.figure()\n",
    "for i in range(Wsc.shape[0]):\n",
    "   plt.subplot(nrow,ncol,i+1)\n",
    "   plt.imshow(Wsc[i],'gray')\n",
    "   plt.axis('off')\n",
    "#plt.savefig(\"test.png\", bbox_inches='tight')\n",
    "plt.show()\n",
    "print('done plotting weights mosaic')"
   ]
  },
  {
   "cell_type": "code",
   "execution_count": null,
   "metadata": {},
   "outputs": [],
   "source": [
    "#  ---------------- NOW Visualize the activations for the first training example --------\n",
    "from keras import backend as K    #backend is tensorflow\n",
    "\n",
    "get_layer_output = K.function([mymodel.layers[0].input],[mymodel.layers[0].output]) #set up function\n",
    "x                = np.expand_dims(X_train[0],0)           #set up a 4D input of 1 image training set \n",
    "layer_output     = get_layer_output([x])[0]  #get output using K.function\n",
    "\n",
    "layer_output.shape    #check output shape and use it in next cell, first dimension is number of filters\n",
    "\n"
   ]
  },
  {
   "cell_type": "code",
   "execution_count": null,
   "metadata": {
    "scrolled": true
   },
   "outputs": [],
   "source": [
    "# --- Now output a mosaic\n",
    "layeroutput3D      = np.squeeze(layer_output)      \n",
    "ncol =4\n",
    "nrow =np.ceil(numfilters/ncol)\n",
    "plt.figure()\n",
    "for i in range(layeroutput3D.shape[0]):\n",
    "   plt.subplot(nrow,ncol,i+1)\n",
    "   plt.imshow(layeroutput3D[i],'gray')\n",
    "   plt.axis('off')\n",
    "#plt.savefig(\"test.png\", bbox_inches='tight')\n",
    "plt.show()\n",
    "print('done plotting layer activation output mosaic')\n"
   ]
  },
  {
   "cell_type": "code",
   "execution_count": null,
   "metadata": {},
   "outputs": [],
   "source": []
  },
  {
   "cell_type": "code",
   "execution_count": null,
   "metadata": {},
   "outputs": [],
   "source": []
  }
 ],
 "metadata": {
  "kernelspec": {
   "display_name": "Python 3",
   "language": "python",
   "name": "python3"
  },
  "language_info": {
   "codemirror_mode": {
    "name": "ipython",
    "version": 3
   },
   "file_extension": ".py",
   "mimetype": "text/x-python",
   "name": "python",
   "nbconvert_exporter": "python",
   "pygments_lexer": "ipython3",
   "version": "3.8.8"
  }
 },
 "nbformat": 4,
 "nbformat_minor": 4
}
