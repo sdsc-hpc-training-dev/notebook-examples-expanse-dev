{
 "cells": [
  {
   "cell_type": "markdown",
   "metadata": {},
   "source": [
    "# Python Pillow Basics\n",
    "\n",
    "### Created by Leo Gu\n",
    "\n",
    "In this tutorial we will take an in depth look at using Python Pillow, a python imaging tool. We will learn how to load, enhance, and filter images. More information about Python Pillow can be found here: https://pillow.readthedocs.io/en/stable/handbook/tutorial.html"
   ]
  },
  {
   "cell_type": "markdown",
   "metadata": {},
   "source": [
    "## Software Prerequisites"
   ]
  },
  {
   "cell_type": "markdown",
   "metadata": {},
   "source": [
    "```\n",
    "conda install pillow\n",
    "conda install sys\n",
    "conda install os\n",
    "```"
   ]
  },
  {
   "cell_type": "code",
   "execution_count": 41,
   "metadata": {},
   "outputs": [],
   "source": [
    "from PIL import Image"
   ]
  },
  {
   "cell_type": "markdown",
   "metadata": {},
   "source": [
    "## Importing an image"
   ]
  },
  {
   "cell_type": "markdown",
   "metadata": {},
   "source": [
    "Load an image using the Image.open command and setting it to a variable."
   ]
  },
  {
   "cell_type": "code",
   "execution_count": 42,
   "metadata": {},
   "outputs": [],
   "source": [
    "im = Image.open(\"image.jpg\")"
   ]
  },
  {
   "cell_type": "markdown",
   "metadata": {},
   "source": [
    "Now you can examine the image specs using the print function."
   ]
  },
  {
   "cell_type": "code",
   "execution_count": 43,
   "metadata": {},
   "outputs": [
    {
     "name": "stdout",
     "output_type": "stream",
     "text": [
      "JPEG (317, 301) RGB\n"
     ]
    }
   ],
   "source": [
    "print(im.format, im.size, im.mode)"
   ]
  },
  {
   "cell_type": "markdown",
   "metadata": {},
   "source": [
    "The format shows the file type or source of the image. The size prints out the image size in pixels. The mode shows the coloring mode which in this case should be RGB."
   ]
  },
  {
   "cell_type": "markdown",
   "metadata": {},
   "source": [
    "Now lets print out the image using the show command."
   ]
  },
  {
   "cell_type": "code",
   "execution_count": 44,
   "metadata": {},
   "outputs": [],
   "source": [
    "im.show()"
   ]
  },
  {
   "cell_type": "markdown",
   "metadata": {},
   "source": [
    "This should open up a new tab that has the image in it. Show however is very buggy at the moment. So we will only use it a few times. You can try to open up the image in draft mode which is an opened but not loaded image which may be useful for some situations."
   ]
  },
  {
   "cell_type": "code",
   "execution_count": 45,
   "metadata": {},
   "outputs": [
    {
     "name": "stdout",
     "output_type": "stream",
     "text": [
      "original = RGB (317, 301)\n",
      "draft = L (159, 151)\n"
     ]
    }
   ],
   "source": [
    "with Image.open(\"image.jpg\") as im:\n",
    "    print(\"original =\", im.mode, im.size)\n",
    "\n",
    "    im.draft(\"L\", (100, 100))\n",
    "    print(\"draft =\", im.mode, im.size)"
   ]
  },
  {
   "cell_type": "markdown",
   "metadata": {},
   "source": [
    "## Manipulating Images"
   ]
  },
  {
   "cell_type": "markdown",
   "metadata": {},
   "source": [
    "We will now get to manipulating image types. First lets look at identifying your image type."
   ]
  },
  {
   "cell_type": "code",
   "execution_count": 46,
   "metadata": {},
   "outputs": [
    {
     "name": "stdout",
     "output_type": "stream",
     "text": [
      "-f JPEG 317x301 RGB\n",
      "C:\\Users\\starw\\AppData\\Roaming\\jupyter\\runtime\\kernel-0387a186-876f-4215-990a-a1af79b1f8b0.json JPEG 317x301 RGB\n"
     ]
    }
   ],
   "source": [
    "import sys\n",
    "\n",
    "for infile in sys.argv[1:]:\n",
    "    try:\n",
    "        with Image.open(\"image.jpg\") as im:\n",
    "            print(infile, im.format, \"%dx%d\" % im.size, im.mode)\n",
    "    except OSError:\n",
    "        pass"
   ]
  },
  {
   "cell_type": "markdown",
   "metadata": {},
   "source": [
    "Cropping images is with the crop command. Define the pixel size and it will crop."
   ]
  },
  {
   "cell_type": "code",
   "execution_count": 48,
   "metadata": {},
   "outputs": [],
   "source": [
    "im = Image.open(\"Blank_world_map-6.png\")\n",
    "box = (10, 10, 40, 40)\n",
    "region = im.crop(box)\n",
    "region.show()"
   ]
  },
  {
   "cell_type": "markdown",
   "metadata": {},
   "source": [
    "The Filter method allows you to put filters over you images. So you can automate image filtering if you iterate through a folder."
   ]
  },
  {
   "cell_type": "code",
   "execution_count": 49,
   "metadata": {},
   "outputs": [],
   "source": [
    "from PIL import ImageFilter\n",
    "im = Image.open(\"image.jpg\")\n",
    "out = im.filter(ImageFilter.BLUR)\n",
    "out.show()"
   ]
  },
  {
   "cell_type": "markdown",
   "metadata": {},
   "source": [
    "Image enhancing can be done with the ImageEnhance function."
   ]
  },
  {
   "cell_type": "code",
   "execution_count": 50,
   "metadata": {},
   "outputs": [],
   "source": [
    "from PIL import ImageEnhance\n",
    "\n",
    "im = Image.open(\"face.jpg\")\n",
    "enh = ImageEnhance.Contrast(im)\n",
    "enh.enhance(1.3).show(\"30% more contrast\")"
   ]
  },
  {
   "cell_type": "code",
   "execution_count": 52,
   "metadata": {},
   "outputs": [],
   "source": [
    "from PIL import ImageEnhance\n",
    "\n",
    "Col = ImageEnhance.Color(im)\n",
    "Con = ImageEnhance.Contrast(im)\n",
    "Bright = ImageEnhance.Brightness(im)\n",
    "Sharp = ImageEnhance.Sharpness(im)"
   ]
  },
  {
   "cell_type": "markdown",
   "metadata": {},
   "source": [
    "Those are all of the functions you can edit for the image using PIL."
   ]
  },
  {
   "cell_type": "markdown",
   "metadata": {},
   "source": [
    "You can scale images using point transformations."
   ]
  },
  {
   "cell_type": "code",
   "execution_count": 54,
   "metadata": {},
   "outputs": [],
   "source": [
    "out = im.point(lambda i: i * 1.2)\n",
    "im.show()\n",
    "out.show()"
   ]
  },
  {
   "cell_type": "markdown",
   "metadata": {},
   "source": [
    "When you compare both images. You can see one image is clearly large than the other."
   ]
  },
  {
   "cell_type": "markdown",
   "metadata": {},
   "source": [
    "# Summary\n",
    "\n",
    "In summary, you should now be bale to take an image and manipulate it to make it better. Using this knowledge you can develop auto filters and automate image modification. Translation of images and more is possible with PIL. Go to the documentation site at this link to learn more:https://pillow.readthedocs.io/en/stable/handbook/tutorial.html"
   ]
  }
 ],
 "metadata": {
  "kernelspec": {
   "display_name": "Python 3",
   "language": "python",
   "name": "python3"
  },
  "language_info": {
   "codemirror_mode": {
    "name": "ipython",
    "version": 3
   },
   "file_extension": ".py",
   "mimetype": "text/x-python",
   "name": "python",
   "nbconvert_exporter": "python",
   "pygments_lexer": "ipython3",
   "version": "3.7.1"
  }
 },
 "nbformat": 4,
 "nbformat_minor": 2
}
