{
 "cells": [
  {
   "cell_type": "code",
   "execution_count": null,
   "metadata": {},
   "outputs": [],
   "source": [
    "# Module needed: numba, math, numpy, cuda, vectorize"
   ]
  },
  {
   "cell_type": "markdown",
   "metadata": {},
   "source": [
    "# CUDA Ufuncs\n",
    "\n",
    "Numba’s vectorize allows Python functions taking scalar input arguments to be used as NumPy ufuncs. Using the `vectorize()` decorator, Numba can compile a pure Python function into a ufunc that operates over NumPy arrays and executes on the GPU.\n",
    "\n",
    "Using vectorize(), you write your function as operating over input scalars, rather than arrays. Numba will generate the surrounding loop (or kernel) allowing efficient iteration over the actual inputs."
   ]
  },
  {
   "cell_type": "code",
   "execution_count": null,
   "metadata": {},
   "outputs": [],
   "source": [
    "import numba\n",
    "from numba import vectorize,cuda\n",
    "import numpy as np\n",
    "import math"
   ]
  },
  {
   "cell_type": "markdown",
   "metadata": {},
   "source": [
    "### Law of Cosines\n",
    "\n",
    "For a triangle with sides $a$, $b$, and $c$ the law of cosines dictates that\n",
    "\n",
    "$$\n",
    "\\frac{a^2+b^2-c^2}{2ab}=\\cos C\n",
    "$$\n",
    "\n",
    "### Numba Ufunc Kernel\n",
    "\n",
    "Below, we define the GPU-accelerated eager, or decoration-time, compilation vectorized function by providing signatures to the decorator and specifying `target='cuda'`.  GPU-targeted Ufuncs require signatures. \n",
    "\n",
    "As an exercise, complete the missing lines of code.  You will have to specify the signature(s) and computation.  "
   ]
  },
  {
   "cell_type": "code",
   "execution_count": null,
   "metadata": {},
   "outputs": [],
   "source": [
    "@vectorize(# --- FILL THIS IN ---,\n",
    "           target='cuda')\n",
    "def compute_angle(a, b, c):\n",
    "    \n",
    "    # --- FILL THIS IN ---\n",
    "    "
   ]
  },
  {
   "cell_type": "markdown",
   "metadata": {},
   "source": [
    "### Prepare Data"
   ]
  },
  {
   "cell_type": "code",
   "execution_count": null,
   "metadata": {},
   "outputs": [],
   "source": [
    "N = int(5e8)\n",
    "dtype = np.float32\n",
    "\n",
    "# prepare the input\n",
    "a = np.array(np.random.sample(N)+3, dtype=dtype)\n",
    "\n",
    "b = np.array(np.random.sample(N)+4, dtype=dtype)\n",
    "\n",
    "c = np.array(np.random.sample(N)+5, dtype=dtype)\n",
    "\n"
   ]
  },
  {
   "cell_type": "code",
   "execution_count": null,
   "metadata": {},
   "outputs": [],
   "source": []
  },
  {
   "cell_type": "markdown",
   "metadata": {},
   "source": [
    "### Call GPU Ufunc\n",
    "Calling a GPU Ufunc is as straight forward as calling a numpy function.  Under the hood, the CUDA launch configuration is handled automatically."
   ]
  },
  {
   "cell_type": "code",
   "execution_count": null,
   "metadata": {},
   "outputs": [],
   "source": [
    "%%timeit -n2 -r5 -o\n",
    "C_GPU = compute_angle(a,b,c)"
   ]
  },
  {
   "cell_type": "code",
   "execution_count": null,
   "metadata": {},
   "outputs": [],
   "source": [
    "# store the timing result\n",
    "GPU_TIMING = _"
   ]
  },
  {
   "cell_type": "markdown",
   "metadata": {},
   "source": [
    "### Numpy Version\n",
    "Notice the numpy version of the same calculation looks nearly identical to the Ufunc definition.  "
   ]
  },
  {
   "cell_type": "code",
   "execution_count": null,
   "metadata": {},
   "outputs": [],
   "source": [
    "%%timeit -n1 -r1 -o\n",
    "# CPU version\n",
    "C_CPU = np.arccos(( a**2 + b**2 - c**2 ) / ( 2.0 * a * b ))"
   ]
  },
  {
   "cell_type": "code",
   "execution_count": null,
   "metadata": {},
   "outputs": [],
   "source": [
    "# store the timing result\n",
    "CPU_TIMING = _"
   ]
  },
  {
   "cell_type": "markdown",
   "metadata": {},
   "source": [
    "### Computing Speedup Factor"
   ]
  },
  {
   "cell_type": "code",
   "execution_count": null,
   "metadata": {},
   "outputs": [],
   "source": [
    "print('Speedup factor: ', CPU_TIMING.average / GPU_TIMING.average, 'X')"
   ]
  },
  {
   "cell_type": "markdown",
   "metadata": {},
   "source": [
    "### Checking Results"
   ]
  },
  {
   "cell_type": "code",
   "execution_count": null,
   "metadata": {},
   "outputs": [],
   "source": [
    "# recompute (workaround for timeit bug)\n",
    "C_GPU = compute_angle(a, b, c)\n",
    "C_CPU = np.arccos(( a**2 + b**2 - c**2 ) / ( 2.0 * a * b ))\n",
    "\n",
    "tol=1e-5\n",
    "if np.array(np.abs(C_CPU-C_GPU)<tol).sum()==N:\n",
    "    print('results agree')"
   ]
  },
  {
   "cell_type": "code",
   "execution_count": null,
   "metadata": {},
   "outputs": [],
   "source": []
  }
 ],
 "metadata": {
  "kernelspec": {
   "display_name": "Python 3",
   "language": "python",
   "name": "python3"
  },
  "language_info": {
   "codemirror_mode": {
    "name": "ipython",
    "version": 3
   },
   "file_extension": ".py",
   "mimetype": "text/x-python",
   "name": "python",
   "nbconvert_exporter": "python",
   "pygments_lexer": "ipython3",
   "version": "3.8.8"
  }
 },
 "nbformat": 4,
 "nbformat_minor": 4
}
