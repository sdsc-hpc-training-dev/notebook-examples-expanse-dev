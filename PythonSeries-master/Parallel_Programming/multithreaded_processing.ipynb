{
 "cells": [
  {
   "cell_type": "code",
   "execution_count": null,
   "metadata": {},
   "outputs": [],
   "source": [
    "#Module Needed: mkl,da,numpy"
   ]
  },
  {
   "cell_type": "code",
   "execution_count": 2,
   "metadata": {},
   "outputs": [],
   "source": [
    "import mkl\n",
    "import numpy as np\n",
    "import dask.array as da"
   ]
  },
  {
   "cell_type": "markdown",
   "metadata": {},
   "source": [
    "# Process an array with multiple threads\n",
    "\n",
    "Multiple threads to process simultaneously different parts of the same array. `dask` automatically provides this feature by replacing the `numpy` function with `dask` functions. The key concept is a chunk, each chunk of data is executed separately by different threads. For example for a matrix we define a 2D block size and each of those blocks can be executed independently and then the results accumulated to get to the final answer.\n",
    "\n",
    "### Library Dependancies\n",
    "\n",
    "Need mkl, numpy. Install mkl with pip: ```pip install mkl```. Install numpy with pip: ```pip install numpy```."
   ]
  },
  {
   "cell_type": "code",
   "execution_count": 3,
   "metadata": {},
   "outputs": [
    {
     "data": {
      "text/plain": [
       "2"
      ]
     },
     "execution_count": 3,
     "metadata": {},
     "output_type": "execute_result"
    }
   ],
   "source": [
    "# Currently numpy on some platforms is already multithreaded thanks to Intel MKL,\n",
    "# for this example we disable multithreading\n",
    "#import mkl\n",
    "mkl.set_num_threads(1)"
   ]
  },
  {
   "cell_type": "code",
   "execution_count": 4,
   "metadata": {},
   "outputs": [],
   "source": [
    "#import numpy as np\n",
    "#import dask.array as da"
   ]
  },
  {
   "cell_type": "code",
   "execution_count": 5,
   "metadata": {},
   "outputs": [],
   "source": [
    "A = np.random.rand(20000,4000)"
   ]
  },
  {
   "cell_type": "markdown",
   "metadata": {},
   "source": [
    "`%whos` is a magic function provided by `IPython` that gives memory consumption of defined variables"
   ]
  },
  {
   "cell_type": "code",
   "execution_count": 6,
   "metadata": {},
   "outputs": [
    {
     "name": "stdout",
     "output_type": "stream",
     "text": [
      "Variable   Type       Data/Info\n",
      "-------------------------------\n",
      "A          ndarray    20000x4000: 80000000 elems, type `float64`, 640000000 bytes (610.3515625 Mb)\n",
      "da         module     <module 'dask.array' from<...>/dask/array/__init__.py'>\n",
      "mkl        module     <module 'mkl' from '/cm/s<...>ackages/mkl/__init__.py'>\n",
      "np         module     <module 'numpy' from '/ho<...>kages/numpy/__init__.py'>\n"
     ]
    }
   ],
   "source": [
    "%whos"
   ]
  },
  {
   "cell_type": "code",
   "execution_count": 7,
   "metadata": {},
   "outputs": [
    {
     "data": {
      "text/plain": [
       "array([[3.36534133e-01, 1.73165088e-01, 7.76990336e-02, ...,\n",
       "        9.39617291e-01, 3.48124101e-01, 9.56757224e-01],\n",
       "       [9.15795157e-01, 6.56350013e-01, 3.40925136e-01, ...,\n",
       "        5.41135662e-01, 6.56415027e-02, 9.91193310e-01],\n",
       "       [7.67082042e-01, 5.39687617e-01, 9.12233840e-01, ...,\n",
       "        5.06295248e-01, 4.06398017e-01, 1.50915338e-01],\n",
       "       ...,\n",
       "       [5.09401604e-02, 7.03208389e-01, 9.85696543e-01, ...,\n",
       "        2.49981270e-01, 1.79237166e-01, 2.16283267e-01],\n",
       "       [9.66400269e-01, 9.78407049e-01, 7.92307810e-01, ...,\n",
       "        6.37743445e-01, 4.52213126e-01, 9.53711454e-01],\n",
       "       [5.94657111e-01, 9.83394215e-01, 8.56739734e-01, ...,\n",
       "        6.44271477e-01, 2.45034927e-01, 5.63108009e-04]])"
      ]
     },
     "execution_count": 7,
     "metadata": {},
     "output_type": "execute_result"
    }
   ],
   "source": [
    "A"
   ]
  },
  {
   "cell_type": "markdown",
   "metadata": {},
   "source": [
    "First let's perform some operations on the matrix in pure `numpy`, using a single thread"
   ]
  },
  {
   "cell_type": "code",
   "execution_count": 8,
   "metadata": {},
   "outputs": [
    {
     "name": "stdout",
     "output_type": "stream",
     "text": [
      "CPU times: user 3.05 s, sys: 162 ms, total: 3.21 s\n",
      "Wall time: 3.22 s\n"
     ]
    }
   ],
   "source": [
    "%time B = A**2 + np.sin(A) * A * np.log(A)"
   ]
  },
  {
   "cell_type": "markdown",
   "metadata": {},
   "source": [
    "## Processing with dask"
   ]
  },
  {
   "cell_type": "markdown",
   "metadata": {},
   "source": [
    "First create a chunked `dask` array from the `numpy` array"
   ]
  },
  {
   "cell_type": "code",
   "execution_count": 9,
   "metadata": {},
   "outputs": [],
   "source": [
    "A_dask = da.from_array(A, chunks=(2000, 1000))"
   ]
  },
  {
   "cell_type": "code",
   "execution_count": 10,
   "metadata": {},
   "outputs": [
    {
     "data": {
      "text/plain": [
       "(10, 4)"
      ]
     },
     "execution_count": 10,
     "metadata": {},
     "output_type": "execute_result"
    }
   ],
   "source": [
    "A_dask.numblocks"
   ]
  },
  {
   "cell_type": "markdown",
   "metadata": {},
   "source": [
    "Then replace each function with the equivalent provided by `dask`, it implements most of the `numpy` functions and operations."
   ]
  },
  {
   "cell_type": "code",
   "execution_count": 11,
   "metadata": {},
   "outputs": [],
   "source": [
    "compute_B = (A_dask**2 + da.sin(A_dask) * A_dask * da.log(A_dask))"
   ]
  },
  {
   "cell_type": "code",
   "execution_count": 12,
   "metadata": {},
   "outputs": [
    {
     "name": "stdout",
     "output_type": "stream",
     "text": [
      "CPU times: user 3.35 s, sys: 157 ms, total: 3.5 s\n",
      "Wall time: 3.52 s\n"
     ]
    }
   ],
   "source": [
    "%time B_dask = compute_B.compute(num_workers=1)"
   ]
  },
  {
   "cell_type": "code",
   "execution_count": 13,
   "metadata": {},
   "outputs": [
    {
     "name": "stdout",
     "output_type": "stream",
     "text": [
      "CPU times: user 3.33 s, sys: 209 ms, total: 3.54 s\n",
      "Wall time: 2.06 s\n"
     ]
    }
   ],
   "source": [
    "%time B_dask = compute_B.compute(num_workers=2)"
   ]
  },
  {
   "cell_type": "code",
   "execution_count": 14,
   "metadata": {},
   "outputs": [],
   "source": [
    "#%time B_dask = compute_B.compute(num_workers=12)"
   ]
  },
  {
   "cell_type": "code",
   "execution_count": 15,
   "metadata": {},
   "outputs": [],
   "source": [
    "#%time B_dask = compute_B.compute(num_workers=num_workers)"
   ]
  },
  {
   "cell_type": "code",
   "execution_count": 16,
   "metadata": {},
   "outputs": [],
   "source": [
    "assert np.allclose(B, B_dask)"
   ]
  }
 ],
 "metadata": {
  "anaconda-cloud": {},
  "kernelspec": {
   "display_name": "Python 3",
   "language": "python",
   "name": "python3"
  },
  "language_info": {
   "codemirror_mode": {
    "name": "ipython",
    "version": 3
   },
   "file_extension": ".py",
   "mimetype": "text/x-python",
   "name": "python",
   "nbconvert_exporter": "python",
   "pygments_lexer": "ipython3",
   "version": "3.8.8"
  }
 },
 "nbformat": 4,
 "nbformat_minor": 4
}
