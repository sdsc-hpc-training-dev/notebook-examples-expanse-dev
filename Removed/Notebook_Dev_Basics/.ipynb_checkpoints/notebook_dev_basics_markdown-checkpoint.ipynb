{
 "cells": [
  {
   "cell_type": "markdown",
   "metadata": {},
   "source": [
    "# Markdown essentials"
   ]
  },
  {
   "cell_type": "markdown",
   "metadata": {},
   "source": [
    "Markdown is a lightweight markup language that is used in a variety of settings, such as GitHub, Bitbucket and Jupyter notebooks.  It provides an easy way to format text in a manner similar to HTML, but with a much simpler syntax. We'll cover what I consider the most essential features, but I recommend seeing Adam Pritchard's cheat sheet for a more comprehensive treatment (https://github.com/adam-p/markdown-here/wiki/Markdown-Cheatsheet#code)\n",
    "\n",
    "Note that markdown is not standardized, so there may be some variation in different applications."
   ]
  },
  {
   "cell_type": "markdown",
   "metadata": {},
   "source": [
    "## Headers"
   ]
  },
  {
   "cell_type": "markdown",
   "metadata": {},
   "source": [
    "Headers levels indicated using hash marks  \n",
    "\\# = H1  \n",
    "\\#\\# = H2  \n",
    "\\#\\#\\# = H3  \n",
    "\\#\\#\\#\\# = H4  \n",
    "\\#\\#\\#\\#\\# = H5  \n",
    "\\#\\#\\#\\#\\#\\# = H6"
   ]
  },
  {
   "cell_type": "markdown",
   "metadata": {},
   "source": [
    "## Italics and emphasis"
   ]
  },
  {
   "cell_type": "markdown",
   "metadata": {},
   "source": [
    "*Italics* and **emphasis (bold)** text are enclosed with \\* ... \\* and \\*\\* ... \\*\\*, respectively."
   ]
  },
  {
   "cell_type": "markdown",
   "metadata": {},
   "source": [
    "## New lines and paragraphs"
   ]
  },
  {
   "cell_type": "markdown",
   "metadata": {},
   "source": [
    "To get a line break, end the line with **two** trailing spaces.  \n",
    "Getting line breaks can be a little frustrating until you discover this trick.\n",
    "\n",
    "To get a new paragraph, follow with two line breaks."
   ]
  },
  {
   "cell_type": "markdown",
   "metadata": {},
   "source": [
    "## Code syntax"
   ]
  },
  {
   "cell_type": "markdown",
   "metadata": {},
   "source": [
    "Inline code is surrounded by backticks. For example, \\`inline code\\` will be rendered as `inline code`\n",
    "\n",
    "Multiline code is delimited using triple backticks, with language specified at end of first set of backticks\n",
    "\n",
    "For example,\n",
    "\n",
    "\\`\\`\\`python  \n",
    "for x in mylist:  \n",
    "    print(x*x)  \n",
    "\\`\\`\\`  \n",
    "\n",
    "is rendered as\n",
    "\n",
    "```python\n",
    "for x in mylist:\n",
    "    print(x*x)\n",
    "```"
   ]
  },
  {
   "cell_type": "markdown",
   "metadata": {},
   "source": [
    "## Bulleted and numbered lists"
   ]
  },
  {
   "cell_type": "markdown",
   "metadata": {},
   "source": [
    "Bulleted lists are created using the '+' at the start of the line. Numbered list items start with digit followed by period (e.g. \"1.\" and \"2.\")\n",
    "\n",
    "+ first bullet\n",
    "+ second bullet\n",
    "+ third bullet\n",
    "\n",
    "\n",
    "1. first numbered item\n",
    "2. second numbered item\n",
    "3. third numbered item"
   ]
  },
  {
   "cell_type": "markdown",
   "metadata": {},
   "source": [
    "## Escaping special characters"
   ]
  },
  {
   "cell_type": "markdown",
   "metadata": {},
   "source": [
    "Asterisks (\\*), backticks(\\') and hash marks at start of line (\\#) have special meaning in markdown. To get a literals, precede with backslash"
   ]
  }
 ],
 "metadata": {
  "kernelspec": {
   "display_name": "Python 3",
   "language": "python",
   "name": "python3"
  },
  "language_info": {
   "codemirror_mode": {
    "name": "ipython",
    "version": 3
   },
   "file_extension": ".py",
   "mimetype": "text/x-python",
   "name": "python",
   "nbconvert_exporter": "python",
   "pygments_lexer": "ipython3",
   "version": "3.6.4"
  }
 },
 "nbformat": 4,
 "nbformat_minor": 2
}
